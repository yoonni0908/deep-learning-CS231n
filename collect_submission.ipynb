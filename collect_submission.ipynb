{
  "cells": [
    {
      "cell_type": "markdown",
      "metadata": {
        "id": "view-in-github",
        "colab_type": "text"
      },
      "source": [
        "<a href=\"https://colab.research.google.com/github/yoonni0908/deep-learning-CS231n/blob/main/collect_submission.ipynb\" target=\"_parent\"><img src=\"https://colab.research.google.com/assets/colab-badge.svg\" alt=\"Open In Colab\"/></a>"
      ]
    },
    {
      "cell_type": "code",
      "execution_count": 2,
      "id": "ff348a42",
      "metadata": {
        "colab": {
          "base_uri": "https://localhost:8080/"
        },
        "id": "ff348a42",
        "outputId": "6dccc844-bb81-417a-ace8-bb704e185598"
      },
      "outputs": [
        {
          "output_type": "stream",
          "name": "stdout",
          "text": [
            "Drive already mounted at /content/drive; to attempt to forcibly remount, call drive.mount(\"/content/drive\", force_remount=True).\n"
          ]
        }
      ],
      "source": [
        "from google.colab import drive\n",
        "\n",
        "drive.mount('/content/drive')\n",
        "\n",
        "# TODO: Enter the path in your Drive of the assignment.\n",
        "# e.g. 'cs231n/assignments/assignment1/'\n",
        "FOLDERNAME = 'cs231n/assignments/assignment1/'\n",
        "\n",
        "assert FOLDERNAME is not None, \"[!] Enter the foldername.\""
      ]
    },
    {
      "cell_type": "code",
      "source": [
        "from google.colab import drive\n",
        "drive.mount('/content/drive')"
      ],
      "metadata": {
        "colab": {
          "base_uri": "https://localhost:8080/"
        },
        "id": "fdFNVNACTJmP",
        "outputId": "43b4f4d3-7784-4c8e-efb9-e5b9b82e4097"
      },
      "id": "fdFNVNACTJmP",
      "execution_count": 6,
      "outputs": [
        {
          "output_type": "stream",
          "name": "stdout",
          "text": [
            "Mounted at /content/drive\n"
          ]
        }
      ]
    },
    {
      "cell_type": "markdown",
      "source": [
        "# 새 섹션"
      ],
      "metadata": {
        "id": "ssLfDNj2SA6r"
      },
      "id": "ssLfDNj2SA6r"
    },
    {
      "cell_type": "markdown",
      "id": "88d38cd1",
      "metadata": {
        "id": "88d38cd1"
      },
      "source": [
        "# Collect Submission - Zip + Generate PDF \n",
        "\n",
        "Run this notebook once you have completed all the other notebooks: `knn.ipynb`, `svm.ipynb`, `softmax.ipynb`, `two_layer_net.ipynb` and `features.ipynb`).\n",
        "\n",
        "It will:\n",
        "\n",
        "* Generate a zip file of your code (`.py` and `.ipynb`) called `a1_code_submission.zip`.\n",
        "* Convert all notebooks into a single PDF file called `a1_inline_submission.pdf`.\n",
        "\n",
        "If your submission for this step was successful, you should see the following display message:\n",
        "\n",
        "`### Done! Please submit a1_code_submission.zip and a1_inline_submission.pdf to Gradescope. ###`\n",
        "\n",
        "Make sure to download the zip and pdf file locally to your computer, then submit to Gradescope. Congrats on succesfully completing the assignment!"
      ]
    },
    {
      "cell_type": "code",
      "execution_count": 3,
      "id": "e9aa9ce5",
      "metadata": {
        "colab": {
          "base_uri": "https://localhost:8080/"
        },
        "id": "e9aa9ce5",
        "outputId": "f84079d4-d477-40ff-d658-0032b813368e"
      },
      "outputs": [
        {
          "output_type": "stream",
          "name": "stdout",
          "text": [
            "[Errno 2] No such file or directory: 'drive/My Drive'\n",
            "/content/drive/My Drive\n",
            "/content/drive/My Drive/cs231n/assignments/assignment1\n",
            "Reading package lists... Done\n",
            "Building dependency tree       \n",
            "Reading state information... Done\n",
            "texlive-fonts-recommended is already the newest version (2017.20180305-1).\n",
            "texlive-generic-recommended is already the newest version (2017.20180305-1).\n",
            "texlive-xetex is already the newest version (2017.20180305-1).\n",
            "The following package was automatically installed and is no longer required:\n",
            "  libnvidia-common-460\n",
            "Use 'sudo apt autoremove' to remove it.\n",
            "0 upgraded, 0 newly installed, 0 to remove and 20 not upgraded.\n",
            "Looking in indexes: https://pypi.org/simple, https://us-python.pkg.dev/colab-wheels/public/simple/\n",
            "Requirement already satisfied: PyPDF2 in /usr/local/lib/python3.8/dist-packages (3.0.0)\n",
            "Requirement already satisfied: typing_extensions>=3.10.0.0 in /usr/local/lib/python3.8/dist-packages (from PyPDF2) (4.4.0)\n",
            "### Zipping file ###\n",
            "### Creating PDFs ###\n",
            "Created PDF knn.ipynb.\n",
            "Created PDF svm.ipynb.\n",
            "Created PDF softmax.ipynb.\n",
            "Created PDF two_layer_net.ipynb.\n",
            "Created PDF features.ipynb.\n",
            "Traceback (most recent call last):\n",
            "  File \"makepdf.py\", line 45, in <module>\n",
            "    main(args.notebooks, args.pdf_filename)\n",
            "  File \"makepdf.py\", line 29, in main\n",
            "    merger = PdfFileMerger()\n",
            "  File \"/usr/local/lib/python3.8/dist-packages/PyPDF2/_merger.py\", line 817, in __init__\n",
            "    deprecation_with_replacement(\"PdfFileMerger\", \"PdfMerger\", \"3.0.0\")\n",
            "  File \"/usr/local/lib/python3.8/dist-packages/PyPDF2/_utils.py\", line 369, in deprecation_with_replacement\n",
            "    deprecation(DEPR_MSG_HAPPENED.format(old_name, removed_in, new_name))\n",
            "  File \"/usr/local/lib/python3.8/dist-packages/PyPDF2/_utils.py\", line 351, in deprecation\n",
            "    raise DeprecationError(msg)\n",
            "PyPDF2.errors.DeprecationError: PdfFileMerger is deprecated and was removed in PyPDF2 3.0.0. Use PdfMerger instead.\n"
          ]
        }
      ],
      "source": [
        "%cd drive/My Drive\n",
        "%cd $FOLDERNAME\n",
        "!sudo apt-get install texlive-xetex texlive-fonts-recommended texlive-generic-recommended\n",
        "!pip install PyPDF2\n",
        "!bash collectSubmission.sh"
      ]
    }
  ],
  "metadata": {
    "colab": {
      "provenance": [],
      "include_colab_link": true
    },
    "language_info": {
      "name": "python"
    },
    "kernelspec": {
      "name": "python3",
      "display_name": "Python 3"
    },
    "gpuClass": "standard"
  },
  "nbformat": 4,
  "nbformat_minor": 5
}